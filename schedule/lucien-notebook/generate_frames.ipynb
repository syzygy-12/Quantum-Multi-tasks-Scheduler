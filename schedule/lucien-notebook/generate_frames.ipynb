{
 "cells": [
  {
   "cell_type": "markdown",
   "id": "a24a2d14-21b4-4d9b-a6ee-dbce5e01f5ba",
   "metadata": {},
   "source": [
    "# Welcome to Lucien Notebook! 🎉\n",
    "\n",
    "Welcome to Lucien's interactive programming environment! Here you can:\n",
    "- Write and execute code\n",
    "- Create data visualizations\n",
    "- Explore and create interesting content with Lucien Agent\n",
    "\n",
    "## How to Reference Files in Your Working Directory 📁\n",
    "\n",
    "In this notebook, you have two ways to import files from your working directory:\n",
    "\n",
    "### 1. Using Absolute Paths (Recommended)\n",
    "\n",
    "```python\n",
    "# Example\n",
    "with open('/absolute/path/to/your/file.txt', 'r') as f:\n",
    "    content = f.read()\n",
    "```\n",
    "\n",
    "### 2. Using Relative Paths After Changing Directory\n",
    "\n",
    "```python\n",
    "import os\n",
    "\n",
    "# First change to your working directory\n",
    "os.chdir('/path/to/your/working/directory')\n",
    "\n",
    "# Then use relative paths\n",
    "with open('file.txt', 'r') as f:\n",
    "    content = f.read()\n",
    "```\n",
    "\n",
    "> ⚠️ **Note**: It is **not recommended** to use relative paths directly in notebooks, as the base directory might not be what you expect.\n",
    "\n",
    "Start exploring now!"
   ]
  },
  {
   "cell_type": "code",
   "execution_count": 4,
   "id": "75377936-0dac-4ac3-8119-b3b77a2158ae",
   "metadata": {},
   "outputs": [
    {
     "ename": "ModuleNotFoundError",
     "evalue": "No module named 'networkx'",
     "output_type": "error",
     "traceback": [
      "\u001b[31m---------------------------------------------------------------------------\u001b[39m",
      "\u001b[31mModuleNotFoundError\u001b[39m                       Traceback (most recent call last)",
      "\u001b[36mCell\u001b[39m\u001b[36m \u001b[39m\u001b[32mIn[4]\u001b[39m\u001b[32m, line 3\u001b[39m\n\u001b[32m      1\u001b[39m \u001b[38;5;28;01mimport\u001b[39;00m\u001b[38;5;250m \u001b[39m\u001b[34;01mjson\u001b[39;00m\n\u001b[32m      2\u001b[39m \u001b[38;5;28;01mimport\u001b[39;00m\u001b[38;5;250m \u001b[39m\u001b[34;01mos\u001b[39;00m\n\u001b[32m----> \u001b[39m\u001b[32m3\u001b[39m \u001b[38;5;28;01mimport\u001b[39;00m\u001b[38;5;250m \u001b[39m\u001b[34;01mnetworkx\u001b[39;00m\u001b[38;5;250m \u001b[39m\u001b[38;5;28;01mas\u001b[39;00m\u001b[38;5;250m \u001b[39m\u001b[34;01mnx\u001b[39;00m\n\u001b[32m      4\u001b[39m \u001b[38;5;28;01mimport\u001b[39;00m\u001b[38;5;250m \u001b[39m\u001b[34;01mmatplotlib\u001b[39;00m\u001b[34;01m.\u001b[39;00m\u001b[34;01mpyplot\u001b[39;00m\u001b[38;5;250m \u001b[39m\u001b[38;5;28;01mas\u001b[39;00m\u001b[38;5;250m \u001b[39m\u001b[34;01mplt\u001b[39;00m\n\u001b[32m      6\u001b[39m \u001b[38;5;66;03m# Create schedule_frames directory\u001b[39;00m\n",
      "\u001b[31mModuleNotFoundError\u001b[39m: No module named 'networkx'"
     ]
    }
   ],
   "source": [
    "import json\n",
    "import os\n",
    "import networkx as nx\n",
    "import matplotlib.pyplot as plt\n",
    "\n",
    "# Create schedule_frames directory\n",
    "if not os.path.exists('schedule_frames'):\n",
    "    os.makedirs('schedule_frames')\n",
    "\n",
    "# Load schedule and topology data\n",
    "with open('quantum_schedule_results.json', 'r') as f:\n",
    "    schedule_data = json.load(f)\n",
    "\n",
    "with open('topologies/4x4_mesh.json', 'r') as f:\n",
    "    topology_data = json.load(f)\n",
    "\n",
    "# Create graph from topology data\n",
    "G = nx.Graph()\n",
    "G.add_nodes_from(topology_data['nodes'])\n",
    "G.add_edges_from(topology_data['edges'])\n",
    "\n",
    "# Generate a frame for each time step\n",
    "for i, time_step in enumerate(schedule_data['schedule']):\n",
    "    plt.figure(figsize=(8, 8))\n",
    "    \n",
    "    # Set node colors and labels\n",
    "    node_colors = ['lightblue'] * len(G.nodes)\n",
    "    node_labels = {node: str(node) for node in G.nodes}\n",
    "    \n",
    "    for task in time_step['tasks']:\n",
    "        for qubit in task['embedding']:\n",
    "            node_colors[qubit] = 'lightgreen'\n",
    "            node_labels[qubit] = f\"{node_labels[qubit]}\\\\n({task['algo_id'].split('////')[-1].split('.')[0]})\"\n",
    "\n",
    "    # Draw the graph\n",
    "    pos = nx.spring_layout(G, seed=42)\n",
    "    nx.draw(G, pos, with_labels=True, labels=node_labels, node_color=node_colors, node_size=1500, font_size=8)\n",
    "    \n",
    "    # Add title and save the plot\n",
    "    plt.title(f\"Time Step {i}\")\n",
    "    plt.savefig(f\"schedule_frames/step_{i}.png\")\n",
    "    plt.close()\n",
    "\n",
    "print(\"Frames generated successfully.\")"
   ]
  },
  {
   "cell_type": "code",
   "execution_count": 3,
   "id": "e51bf78d-4869-4674-8a6d-111a3fd998b7",
   "metadata": {},
   "outputs": [
    {
     "name": "stdout",
     "output_type": "stream",
     "text": [
      "Note: you may need to restart the kernel to use updated packages.\n"
     ]
    },
    {
     "name": "stderr",
     "output_type": "stream",
     "text": [
      "The system cannot find the path specified.\n"
     ]
    }
   ],
   "source": [
    "%pip install networkx matplotlib"
   ]
  },
  {
   "cell_type": "code",
   "execution_count": 5,
   "id": "40d8c4bd-437c-4d7f-a950-e6dce8b7fa63",
   "metadata": {},
   "outputs": [
    {
     "name": "stderr",
     "output_type": "stream",
     "text": [
      "The system cannot find the path specified.\n"
     ]
    }
   ],
   "source": [
    "import sys\n",
    "!{sys.executable} -m pip install networkx matplotlib"
   ]
  }
 ],
 "metadata": {
  "kernelspec": {
   "display_name": "Python 3 (ipykernel)",
   "language": "python",
   "name": "python3"
  },
  "language_info": {
   "codemirror_mode": {
    "name": "ipython",
    "version": 3
   },
   "file_extension": ".py",
   "mimetype": "text/x-python",
   "name": "python",
   "nbconvert_exporter": "python",
   "pygments_lexer": "ipython3",
   "version": "3.12.7"
  }
 },
 "nbformat": 4,
 "nbformat_minor": 5
}
