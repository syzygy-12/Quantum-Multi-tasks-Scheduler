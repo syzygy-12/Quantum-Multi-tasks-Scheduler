{
 "cells": [
  {
   "cell_type": "markdown",
   "id": "d93f7dd2-39bd-4bbf-9b30-a50fffc939dd",
   "metadata": {},
   "source": [
    "# Welcome to Lucien Notebook! 🎉\n",
    "\n",
    "Welcome to Lucien's interactive programming environment! Here you can:\n",
    "- Write and execute code\n",
    "- Create data visualizations\n",
    "- Explore and create interesting content with Lucien Agent\n",
    "\n",
    "## How to Reference Files in Your Working Directory 📁\n",
    "\n",
    "In this notebook, you have two ways to import files from your working directory:\n",
    "\n",
    "### 1. Using Absolute Paths (Recommended)\n",
    "\n",
    "```python\n",
    "# Example\n",
    "with open('/absolute/path/to/your/file.txt', 'r') as f:\n",
    "    content = f.read()\n",
    "```\n",
    "\n",
    "### 2. Using Relative Paths After Changing Directory\n",
    "\n",
    "```python\n",
    "import os\n",
    "\n",
    "# First change to your working directory\n",
    "os.chdir('/path/to/your/working/directory')\n",
    "\n",
    "# Then use relative paths\n",
    "with open('file.txt', 'r') as f:\n",
    "    content = f.read()\n",
    "```\n",
    "\n",
    "> ⚠️ **Note**: It is **not recommended** to use relative paths directly in notebooks, as the base directory might not be what you expect.\n",
    "\n",
    "Start exploring now!"
   ]
  },
  {
   "cell_type": "code",
   "execution_count": 1,
   "id": "0efcd946-e94c-4e51-ad3d-1f4f9ef6b083",
   "metadata": {},
   "outputs": [
    {
     "name": "stdout",
     "output_type": "stream",
     "text": [
      "Nodes: [0, 1, 2, 3, 4, 5, 6, 7, 8, 9, 10, 11, 12, 13, 14, 15, 16, 17, 18, 19, 20, 21, 22, 23, 24, 25, 26, 27, 28, 29, 30, 31, 32, 33, 34, 35]\n",
      "Edges: [[0, 1], [0, 6], [1, 2], [1, 7], [2, 3], [2, 8], [3, 4], [3, 9], [4, 5], [4, 10], [5, 11], [6, 7], [6, 12], [7, 8], [7, 13], [8, 9], [8, 14], [9, 10], [9, 15], [10, 11], [10, 16], [11, 17], [12, 13], [13, 14], [14, 15], [15, 16], [15, 21], [16, 17], [16, 22], [17, 23], [21, 22], [21, 27], [22, 23], [22, 28], [23, 29], [24, 25], [24, 30], [25, 26], [25, 31], [26, 27], [26, 32], [27, 28], [27, 33], [28, 29], [28, 34], [29, 35], [30, 31], [31, 32], [32, 33], [33, 34], [34, 35]]\n"
     ]
    },
    {
     "data": {
      "text/markdown": [
       "~~~json\n",
       "{\"nodes\": [0, 1, 2, 3, 4, 5, 6, 7, 8, 9, 10, 11, 12, 13, 14, 15, 16, 17, 18, 19, 20, 21, 22, 23, 24, 25, 26, 27, 28, 29, 30, 31, 32, 33, 34, 35], \"edges\": [[0, 1], [0, 6], [1, 2], [1, 7], [2, 3], [2, 8], [3, 4], [3, 9], [4, 5], [4, 10], [5, 11], [6, 7], [6, 12], [7, 8], [7, 13], [8, 9], [8, 14], [9, 10], [9, 15], [10, 11], [10, 16], [11, 17], [12, 13], [13, 14], [14, 15], [15, 16], [15, 21], [16, 17], [16, 22], [17, 23], [21, 22], [21, 27], [22, 23], [22, 28], [23, 29], [24, 25], [24, 30], [25, 26], [25, 31], [26, 27], [26, 32], [27, 28], [27, 33], [28, 29], [28, 34], [29, 35], [30, 31], [31, 32], [32, 33], [33, 34], [34, 35]]}\n",
       "~~~"
      ],
      "text/plain": [
       "<IPython.core.display.Markdown object>"
      ]
     },
     "metadata": {},
     "output_type": "display_data"
    }
   ],
   "source": [
    "\n",
    "import json\n",
    "\n",
    "def generate_mesh_topology(width, height, broken_nodes):\n",
    "    nodes = list(range(width * height))\n",
    "    edges = []\n",
    "    for i in range(height):\n",
    "        for j in range(width):\n",
    "            node = i * width + j\n",
    "            # Connect to the right neighbor\n",
    "            if j < width - 1:\n",
    "                right_neighbor = node + 1\n",
    "                edges.append(sorted([node, right_neighbor]))\n",
    "            # Connect to the neighbor below\n",
    "            if i < height - 1:\n",
    "                bottom_neighbor = node + width\n",
    "                edges.append(sorted([node, bottom_neighbor]))\n",
    "\n",
    "    # Remove edges connected to broken nodes\n",
    "    edges = [edge for edge in edges if not any(node in broken_nodes for node in edge)]\n",
    "    \n",
    "    return nodes, edges\n",
    "\n",
    "width = 6\n",
    "height = 6\n",
    "broken_nodes = [18, 19, 20]\n",
    "nodes, edges = generate_mesh_topology(width, height, broken_nodes)\n",
    "\n",
    "print(f\"Nodes: {nodes}\")\n",
    "print(f\"Edges: {edges}\")\n",
    "\n",
    "from IPython.display import display, Markdown\n",
    "display(Markdown(f\"~~~json\\n{{\\\"nodes\\\": {nodes}, \\\"edges\\\": {edges}}}\\n~~~\"))\n"
   ]
  }
 ],
 "metadata": {
  "kernelspec": {
   "display_name": "Python 3 (ipykernel)",
   "language": "python",
   "name": "python3"
  },
  "language_info": {
   "codemirror_mode": {
    "name": "ipython",
    "version": 3
   },
   "file_extension": ".py",
   "mimetype": "text/x-python",
   "name": "python",
   "nbconvert_exporter": "python",
   "pygments_lexer": "ipython3",
   "version": "3.12.7"
  }
 },
 "nbformat": 4,
 "nbformat_minor": 5
}
