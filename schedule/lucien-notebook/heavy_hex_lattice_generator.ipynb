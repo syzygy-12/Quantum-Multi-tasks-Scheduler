{
 "cells": [
  {
   "cell_type": "markdown",
   "id": "f4e2651c-168c-4115-8929-502aec6de5c4",
   "metadata": {},
   "source": [
    "# Welcome to Lucien Notebook! 🎉\n",
    "\n",
    "Welcome to Lucien's interactive programming environment! Here you can:\n",
    "- Write and execute code\n",
    "- Create data visualizations\n",
    "- Explore and create interesting content with Lucien Agent\n",
    "\n",
    "## How to Reference Files in Your Working Directory 📁\n",
    "\n",
    "In this notebook, you have two ways to import files from your working directory:\n",
    "\n",
    "### 1. Using Absolute Paths (Recommended)\n",
    "\n",
    "```python\n",
    "# Example\n",
    "with open('/absolute/path/to/your/file.txt', 'r') as f:\n",
    "    content = f.read()\n",
    "```\n",
    "\n",
    "### 2. Using Relative Paths After Changing Directory\n",
    "\n",
    "```python\n",
    "import os\n",
    "\n",
    "# First change to your working directory\n",
    "os.chdir('/path/to/your/working/directory')\n",
    "\n",
    "# Then use relative paths\n",
    "with open('file.txt', 'r') as f:\n",
    "    content = f.read()\n",
    "```\n",
    "\n",
    "> ⚠️ **Note**: It is **not recommended** to use relative paths directly in notebooks, as the base directory might not be what you expect.\n",
    "\n",
    "Start exploring now!"
   ]
  }
 ],
 "metadata": {
  "kernelspec": {
   "display_name": "Python 3 (ipykernel)",
   "language": "python",
   "name": "python3"
  },
  "language_info": {
   "codemirror_mode": {
    "name": "ipython",
    "version": 3
   },
   "file_extension": ".py",
   "mimetype": "text/x-python",
   "name": "python",
   "nbconvert_exporter": "python",
   "pygments_lexer": "ipython3",
   "version": "3.12.7"
  }
 },
 "nbformat": 4,
 "nbformat_minor": 5
}
